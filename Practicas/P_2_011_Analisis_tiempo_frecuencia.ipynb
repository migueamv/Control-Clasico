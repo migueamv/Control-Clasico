{
 "cells": [
  {
   "cell_type": "markdown",
   "id": "42a14256-91c8-446e-92a7-ab6bf11055d3",
   "metadata": {},
   "source": [
    "### Práctica: Análisis de Sistemas en el Dominio del Tiempo vs. Dominio ‘s’.\n",
    "\n",
    "**Objetivo:** Analizar un sistema LTI simple en ambos dominios para\n",
    "verificar que la respuesta es la misma. Se comparará el resultado\n",
    "obtenido a través del concepto de convolución en el tiempo con el método\n",
    "de la función de transferencia en el dominio de Laplace (dominio ‘s’).\n",
    "\n",
    "**Relaciones Fundamentales:** \n",
    "\n",
    "\\* **Dominio del Tiempo:** La salida\n",
    "$y(t)$ es la convolución de la entrada $r(t)$ con la respuesta al\n",
    "impulso $h(t)$. $$ y(t) = r(t) * g(t) $$ \n",
    "\n",
    "\\* **Dominio ‘s’ (Laplace):**\n",
    "La transformada de la salida $Y(s)$ es el producto de la transformada de\n",
    "la entrada $R(s)$ y la función de transferencia $G(s)$.\n",
    "$$ Y(s) = R(s) \\cdot G(s) $$"
   ]
  },
  {
   "cell_type": "code",
   "execution_count": 5,
   "id": "ee4cecdc",
   "metadata": {},
   "outputs": [],
   "source": [
    "# Paso 1: Importar las bibliotecas necesarias.\n",
    "\n",
    "# NumPy: Para operaciones numéricas y manejo de arreglos.\n",
    "\n",
    "# Matplotlib: Para la visualización y graficación de resultados.\n",
    "\n",
    "# Python Control Library: Para la creación de sistemas de control y su simulación.\n",
    "\n",
    "import numpy as np \n",
    "\n",
    "import matplotlib.pyplot as plt \n",
    "\n",
    "import control as ct\n",
    "\n",
    "# Configuración para que las gráficas se vean mejor en el notebook.\n",
    "\n",
    "plt.style.use(\"seaborn-v0_8-whitegrid\")\n"
   ]
  }
 ],
 "metadata": {
  "kernelspec": {
   "display_name": ".venv",
   "language": "python",
   "name": "python3"
  },
  "language_info": {
   "codemirror_mode": {
    "name": "ipython",
    "version": 3
   },
   "file_extension": ".py",
   "mimetype": "text/x-python",
   "name": "python",
   "nbconvert_exporter": "python",
   "pygments_lexer": "ipython3",
   "version": "3.13.7"
  }
 },
 "nbformat": 4,
 "nbformat_minor": 5
}
