{
 "cells": [
  {
   "cell_type": "markdown",
   "id": "55628d8b",
   "metadata": {},
   "source": [
    "# Práctica 1-02: Hola Mundo\n",
    "Este es mi primer notebook en VS Code para la materia de Control\n",
    "Clásico."
   ]
  },
  {
   "cell_type": "code",
   "execution_count": 1,
   "id": "86eb99bb",
   "metadata": {},
   "outputs": [
    {
     "name": "stdout",
     "output_type": "stream",
     "text": [
      "Hola Mundo\n"
     ]
    }
   ],
   "source": [
    "print(\"Hola Mundo\")"
   ]
  },
  {
   "cell_type": "code",
   "execution_count": 3,
   "id": "c63eb70d",
   "metadata": {},
   "outputs": [
    {
     "name": "stdout",
     "output_type": "stream",
     "text": [
      "Prueba2\n"
     ]
    }
   ],
   "source": [
    "print(\"Prueba2\")"
   ]
  },
  {
   "cell_type": "code",
   "execution_count": 1,
   "id": "2ffdf099",
   "metadata": {},
   "outputs": [
    {
     "name": "stdout",
     "output_type": "stream",
     "text": [
      "Prueba en otro dispositivo\n"
     ]
    }
   ],
   "source": [
    "print(\"Prueba en otro dispositivo\")"
   ]
  }
 ],
 "metadata": {
  "kernelspec": {
   "display_name": ".venv",
   "language": "python",
   "name": "python3"
  },
  "language_info": {
   "codemirror_mode": {
    "name": "ipython",
    "version": 3
   },
   "file_extension": ".py",
   "mimetype": "text/x-python",
   "name": "python",
   "nbconvert_exporter": "python",
   "pygments_lexer": "ipython3",
   "version": "3.13.7"
  }
 },
 "nbformat": 4,
 "nbformat_minor": 5
}
